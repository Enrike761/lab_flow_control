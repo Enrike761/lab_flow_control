{
 "cells": [
  {
   "cell_type": "code",
   "execution_count": 1,
   "id": "70f3942a-31a8-42e3-87ed-99aefb714342",
   "metadata": {},
   "outputs": [],
   "source": [
    "products = [\"t-shirt\", \"mug\", \"hat\", \"book\", \"keychain\"]"
   ]
  },
  {
   "cell_type": "code",
   "execution_count": 3,
   "id": "68dd6e9b-2bce-47d6-b370-c5f95e1ec902",
   "metadata": {},
   "outputs": [],
   "source": [
    "inventory = {}"
   ]
  },
  {
   "cell_type": "code",
   "execution_count": null,
   "id": "6bfe6685-b6e3-4678-abdb-6f90452482e0",
   "metadata": {},
   "outputs": [],
   "source": [
    "inventory = {\"t-shirt\":input(\"introduce the number of t-shirts:\")}"
   ]
  },
  {
   "cell_type": "code",
   "execution_count": 9,
   "id": "c8db0cef-6f15-45a7-b4e3-400c284e4d46",
   "metadata": {},
   "outputs": [
    {
     "name": "stdin",
     "output_type": "stream",
     "text": [
      "Introduce el número de t-shirts:  6\n",
      "Introduce el número de mugs:  3\n",
      "Introduce el número de hats:  7\n",
      "Introduce el número de books:  2\n",
      "Introduce el número de keychains:  6\n"
     ]
    }
   ],
   "source": [
    "for product in products:\n",
    "    quantity = input(f\"Introduce el número de {product}s: \")  # Solicitar cantidad\n",
    "    inventory[product] = int(quantity)"
   ]
  },
  {
   "cell_type": "code",
   "execution_count": 11,
   "id": "9bd93e20-5380-485a-acff-60d393457a7a",
   "metadata": {},
   "outputs": [
    {
     "data": {
      "text/plain": [
       "list"
      ]
     },
     "execution_count": 11,
     "metadata": {},
     "output_type": "execute_result"
    }
   ],
   "source": [
    "type(products)"
   ]
  },
  {
   "cell_type": "code",
   "execution_count": 15,
   "id": "2c7a08ab-546e-4246-9fed-065a0ef0cd9d",
   "metadata": {},
   "outputs": [
    {
     "data": {
      "text/plain": [
       "{'t-shirt': 6, 'mug': 3, 'hat': 7, 'book': 2, 'keychain': 6}"
      ]
     },
     "execution_count": 15,
     "metadata": {},
     "output_type": "execute_result"
    }
   ],
   "source": [
    "inventory"
   ]
  },
  {
   "cell_type": "code",
   "execution_count": null,
   "id": "f5d3ba78-603f-4ffc-9a10-32b81c7a0bf1",
   "metadata": {},
   "outputs": [],
   "source": [
    "inventory"
   ]
  },
  {
   "cell_type": "code",
   "execution_count": 17,
   "id": "c9752f84-ae3d-4ee4-949b-e6d031527d4c",
   "metadata": {},
   "outputs": [],
   "source": [
    "customer_orders = set() #hay que poner set, si solo ponemos () sería una tupla vacía"
   ]
  },
  {
   "cell_type": "code",
   "execution_count": null,
   "id": "c5206a04-cf4a-4048-ac14-ffa0604a2461",
   "metadata": {},
   "outputs": [],
   "source": []
  },
  {
   "cell_type": "code",
   "execution_count": 41,
   "id": "7ed2402f-8a39-4025-acdf-8a71b76910fb",
   "metadata": {},
   "outputs": [
    {
     "name": "stdin",
     "output_type": "stream",
     "text": [
      "Ingrese un producto de la lista que desees comprar: book\n"
     ]
    },
    {
     "name": "stdout",
     "output_type": "stream",
     "text": [
      "ingrese un producto de la lista ['t-shirt', 'mug', 'hat', 'book', 'keychain']\n"
     ]
    },
    {
     "name": "stdin",
     "output_type": "stream",
     "text": [
      "Quieres añadir otro producto? yes/no yes\n",
      "Ingrese un producto de la lista que desees comprar: haat\n"
     ]
    },
    {
     "name": "stdout",
     "output_type": "stream",
     "text": [
      "ingrese un producto de la lista ['t-shirt', 'mug', 'hat', 'book', 'keychain']\n"
     ]
    },
    {
     "name": "stdin",
     "output_type": "stream",
     "text": [
      "Quieres añadir otro producto? yes/no yes\n",
      "Ingrese un producto de la lista que desees comprar: hat\n"
     ]
    },
    {
     "name": "stdout",
     "output_type": "stream",
     "text": [
      "ingrese un producto de la lista ['t-shirt', 'mug', 'hat', 'book', 'keychain']\n"
     ]
    },
    {
     "name": "stdin",
     "output_type": "stream",
     "text": [
      "Quieres añadir otro producto? yes/no no\n"
     ]
    },
    {
     "name": "stdout",
     "output_type": "stream",
     "text": [
      "{'book'}\n"
     ]
    }
   ],
   "source": [
    "while True:\n",
    "    first_order= input(\"Ingrese un producto de la lista que desees comprar:\").strip\n",
    "    if first_order in products:\n",
    "        customer_orders.add(first_order)\n",
    "    else:\n",
    "        print(f\"ingrese un producto de la lista {products}\")\n",
    "    second_order = input(\"Quieres añadir otro producto? yes/no\").strip().lower()\n",
    "    if second_order in products:\n",
    "        customer_orders.add(second_order)\n",
    "    if second_order == \"no\":\n",
    "        break\n",
    "print(customer_orders)\n",
    "    #no me ha funcionado los loops, pues solo añade un producto y aparece siempre la frase de ingrese un producto de la lista"
   ]
  },
  {
   "cell_type": "code",
   "execution_count": 55,
   "id": "d2ab9a29-dc25-480a-a8d0-513b84fcbcde",
   "metadata": {},
   "outputs": [
    {
     "name": "stdout",
     "output_type": "stream",
     "text": [
      "{'t-shirt': 6, 'mug': 3, 'hat': 7, 'book': 1, 'keychain': 6}\n"
     ]
    }
   ],
   "source": [
    "for x,y in inventory.items():\n",
    "    if x in customer_orders:\n",
    "        inventory[x]= y - 1\n",
    "print(inventory)  #se ha restado 1 a \"book\", pues es el que teníamos en customer_orders"
   ]
  },
  {
   "cell_type": "code",
   "execution_count": 43,
   "id": "e793f6a8-1cdb-48a8-9e3f-f6765efd3b69",
   "metadata": {},
   "outputs": [
    {
     "data": {
      "text/plain": [
       "{'book'}"
      ]
     },
     "execution_count": 43,
     "metadata": {},
     "output_type": "execute_result"
    }
   ],
   "source": [
    "customer_orders"
   ]
  },
  {
   "cell_type": "code",
   "execution_count": 57,
   "id": "0bd4eb74-ff51-469a-87d5-b098ede0b542",
   "metadata": {},
   "outputs": [],
   "source": [
    "Total_Products_Ordered = len(customer_orders) "
   ]
  },
  {
   "cell_type": "code",
   "execution_count": 59,
   "id": "9c4bbb73-0255-4e45-8b30-fd96610533da",
   "metadata": {},
   "outputs": [
    {
     "name": "stdout",
     "output_type": "stream",
     "text": [
      "1\n"
     ]
    }
   ],
   "source": [
    "print(Total_Products_Ordered)"
   ]
  },
  {
   "cell_type": "code",
   "execution_count": 61,
   "id": "a48bfed3-9082-47c5-828c-1ba73ccdba6f",
   "metadata": {},
   "outputs": [],
   "source": [
    "Percentage_of_Products_Ordered =len(customer_orders) / len(products) *100"
   ]
  },
  {
   "cell_type": "code",
   "execution_count": 63,
   "id": "f4c0214c-db26-48c4-9dad-8681c1f987a7",
   "metadata": {},
   "outputs": [
    {
     "name": "stdout",
     "output_type": "stream",
     "text": [
      "20.0\n"
     ]
    }
   ],
   "source": [
    "print(Percentage_of_Products_Ordered) #60% es el porcentaje de productos pedidos"
   ]
  },
  {
   "cell_type": "code",
   "execution_count": 65,
   "id": "b088b26b-8780-4a21-9062-d934fd2551d3",
   "metadata": {},
   "outputs": [],
   "source": [
    "order_status = (Percentage_of_Products_Ordered, Total_Products_Ordered)"
   ]
  },
  {
   "cell_type": "code",
   "execution_count": 67,
   "id": "a65343c1-9a1b-4a58-adc5-ef53cd288f44",
   "metadata": {},
   "outputs": [
    {
     "name": "stdout",
     "output_type": "stream",
     "text": [
      "(20.0, 1)\n"
     ]
    }
   ],
   "source": [
    "print(order_status)"
   ]
  },
  {
   "cell_type": "code",
   "execution_count": 69,
   "id": "f1d66573-d458-43a7-8f55-90f6caf40fb6",
   "metadata": {},
   "outputs": [
    {
     "data": {
      "text/plain": [
       "tuple"
      ]
     },
     "execution_count": 69,
     "metadata": {},
     "output_type": "execute_result"
    }
   ],
   "source": [
    "type(order_status)"
   ]
  },
  {
   "cell_type": "code",
   "execution_count": 71,
   "id": "c1245f31-48c7-4765-b121-f22529c6b0a8",
   "metadata": {},
   "outputs": [
    {
     "name": "stdout",
     "output_type": "stream",
     "text": [
      "Order Statistics:\n",
      "        Total Products Ordered: 1\n",
      "        Percentage of Products Ordered: 20.0%\n"
     ]
    }
   ],
   "source": [
    "print(f\"\"\"Order Statistics:\n",
    "        Total Products Ordered: {Total_Products_Ordered}\n",
    "        Percentage of Products Ordered: {Percentage_of_Products_Ordered}%\"\"\")"
   ]
  },
  {
   "cell_type": "code",
   "execution_count": null,
   "id": "e2f37f7c-06b8-45fd-ae8f-5655c92dc39d",
   "metadata": {},
   "outputs": [],
   "source": []
  }
 ],
 "metadata": {
  "kernelspec": {
   "display_name": "Python 3 (ipykernel)",
   "language": "python",
   "name": "python3"
  },
  "language_info": {
   "codemirror_mode": {
    "name": "ipython",
    "version": 3
   },
   "file_extension": ".py",
   "mimetype": "text/x-python",
   "name": "python",
   "nbconvert_exporter": "python",
   "pygments_lexer": "ipython3",
   "version": "3.12.4"
  }
 },
 "nbformat": 4,
 "nbformat_minor": 5
}
